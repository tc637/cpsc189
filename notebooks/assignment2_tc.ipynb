{
 "metadata": {
  "name": "",
  "signature": "sha256:1578ffa2bff189328d4c9665d5351549f60158fb97e218c638a422828f8c1282"
 },
 "nbformat": 3,
 "nbformat_minor": 0,
 "worksheets": [
  {
   "cells": [
    {
     "cell_type": "heading",
     "level": 1,
     "metadata": {},
     "source": [
      "Assignment 2: Pine I/O Exercises"
     ]
    },
    {
     "cell_type": "code",
     "collapsed": false,
     "input": [
      "# Exercise 1\n",
      "\n",
      "# create dictionary containing months and the number of days in each month; assume not a leap year\n",
      "month_dict = {'january':31.,'february':28.,'march':31.,'april':30.,'may':31.,'june':30.,'july':31.,'august':31.,'september':30.,'october':31.,'november':30.,'december':31.}\n",
      "\n",
      "# get user-inputs\n",
      "dollars = float(raw_input(\"How much money (in dollars) in your lunch account? \")) # float\n",
      "month = raw_input(\"\\nWhat month (in letters) is it? \").lower() # string\n",
      "date = float(raw_input(\"\\nWhat day of the month is today? \")) # float\n",
      "\n",
      "# define function for filter, to check whether or not the user input a valid month\n",
      "def f(mon): return mon==month\n",
      "\n",
      "# check validity of user-input for month; if valid, extract days of month and do rest of calculations\n",
      "if filter(f,month_dict.keys()):\n",
      "    \n",
      "    days = month_dict[month] \n",
      "    days_left = days - date + 1  # add 1 since we need to include today as well\n",
      "    spending = dollars/days_left \n",
      "    \n",
      "    # print result\n",
      "    print(\"\\nYou can spend ${:.3} each day for the rest of the month.\".format(spending))\n",
      "    \n",
      "else:\n",
      "    print(\"Not a valid month!\")"
     ],
     "language": "python",
     "metadata": {},
     "outputs": [
      {
       "name": "stdout",
       "output_type": "stream",
       "stream": "stdout",
       "text": [
        "How much money (in dollars) in your lunch account? 118.39\n"
       ]
      },
      {
       "name": "stdout",
       "output_type": "stream",
       "stream": "stdout",
       "text": [
        "\n",
        "What month (in letters) is it? april\n"
       ]
      },
      {
       "name": "stdout",
       "output_type": "stream",
       "stream": "stdout",
       "text": [
        "\n",
        "What day of the month is today? 17\n"
       ]
      },
      {
       "output_type": "stream",
       "stream": "stdout",
       "text": [
        "\n",
        "You can spend $8.46 each day for the rest of the month.\n"
       ]
      }
     ],
     "prompt_number": 1
    },
    {
     "cell_type": "code",
     "collapsed": false,
     "input": [
      "# Exercise 2\n",
      "\n",
      "from numpy import array\n",
      "\n",
      "a = array([1, 3, 5, 7])\n",
      "b = array([8, 7, 5, 4])\n",
      "c = array([0, 9,-6,-8])\n",
      "\n",
      "d = zip(a, b, c) # zip produces a list, NOT a numpy array\n",
      "\n",
      "print(d)\n",
      "\n",
      "e = array(d)\n",
      "\n",
      "print(e)\n",
      "\n",
      "# want to print out -8\n",
      "array_number = e[3,2]\n",
      "list_number = d[3][2]\n",
      "\n",
      "print(array_number==list_number)\n",
      "\n",
      "# a,b,c appear as 'columns' in e; that is, each element of 'a' corresponds to a row in e\n",
      "# containing values of the same index from the other two arrays"
     ],
     "language": "python",
     "metadata": {},
     "outputs": [
      {
       "output_type": "stream",
       "stream": "stdout",
       "text": [
        "[(1, 8, 0), (3, 7, 9), (5, 5, -6), (7, 4, -8)]\n",
        "[[ 1  8  0]\n",
        " [ 3  7  9]\n",
        " [ 5  5 -6]\n",
        " [ 7  4 -8]]\n",
        "True\n"
       ]
      }
     ],
     "prompt_number": 2
    },
    {
     "cell_type": "code",
     "collapsed": false,
     "input": [
      "# Exercise 3\n",
      "\n",
      "import numpy as np\n",
      "\n",
      "# open .txt file and load into arrays\n",
      "f, a, da = np.loadtxt('assignment2.txt', skiprows = 3, unpack = True)\n",
      "\n",
      "# print with 4 decimal places\n",
      "np.set_printoptions(precision=4)\n",
      "print('f = {}'.format(f))\n",
      "\n",
      "# print with 2 decimal places\n",
      "np.set_printoptions(precision=2)\n",
      "print('\\na = {}'.format(a))\n",
      "print('\\nda = {}'.format(da))   "
     ],
     "language": "python",
     "metadata": {},
     "outputs": [
      {
       "output_type": "stream",
       "stream": "stdout",
       "text": [
        "f = [  0.75     1.7885   2.8269   3.8654   4.9038   5.9423   6.9808   8.0192\n",
        "   9.0577  10.0962  11.1346  12.1731  13.2115  14.25  ]\n",
        "\n",
        "a = [ 13.52  12.11  14.27  16.6   22.91  35.28  60.99  33.38  17.78  10.99\n",
        "   7.47   6.72   4.4    4.07]\n",
        "\n",
        "da = [ 0.32  0.92  0.73  2.06  1.75  0.91  0.99  0.36  2.32  0.21  0.48  0.51\n",
        "  0.58  0.63]\n"
       ]
      }
     ],
     "prompt_number": 3
    },
    {
     "cell_type": "code",
     "collapsed": false,
     "input": [
      "# Exercise 4\n",
      "\n",
      "# open .txt file and load into arrays\n",
      "f, a, da = np.loadtxt('assignment2.txt', skiprows = 3, unpack = True)\n",
      "\n",
      "# create headers\n",
      "info = 'Date: 2013-09-16'\n",
      "info += '\\nData taken by Liam and Selena'\n",
      "info += '\\nfrequency (Hz) amplitude (mm) amp error (mm)'\n",
      "\n",
      "# output to .txt file\n",
      "np.savetxt('assignment2_a.txt',zip(f,a,da),header=info,fmt='%12.4f')"
     ],
     "language": "python",
     "metadata": {},
     "outputs": [],
     "prompt_number": 4
    },
    {
     "cell_type": "code",
     "collapsed": false,
     "input": [
      "# Exercise 5\n",
      "\n",
      "# open .txt file and load into arrays\n",
      "f, a, da = np.loadtxt('assignment2.txt', skiprows = 3, unpack = True)\n",
      "\n",
      "# output to .csv file\n",
      "np.savetxt('assignment2.csv',zip(f,a,da),fmt='%.16e',delimiter=',')"
     ],
     "language": "python",
     "metadata": {},
     "outputs": [],
     "prompt_number": 5
    }
   ],
   "metadata": {}
  }
 ]
}