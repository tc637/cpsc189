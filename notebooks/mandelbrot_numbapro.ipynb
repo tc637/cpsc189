{
 "metadata": {
  "name": "",
  "signature": "sha256:37faedba678025eca1858ce68d07ccc4226bf897999eaae50ae120b3461f92ce"
 },
 "nbformat": 3,
 "nbformat_minor": 0,
 "worksheets": [
  {
   "cells": [
    {
     "cell_type": "heading",
     "level": 1,
     "metadata": {},
     "source": [
      "A NumbaPro Mandelbrot Example"
     ]
    },
    {
     "cell_type": "markdown",
     "metadata": {},
     "source": [
      "This is an example that demonstrates accelerating a Mandelbrot fractal computation using \"CUDA Python\" with NumbaPro.\n",
      "\n",
      "Let's start with a basic Python Mandelbrot set. We use a numpy array for the image and display it using pylab imshow."
     ]
    },
    {
     "cell_type": "code",
     "collapsed": false,
     "input": [
      "import numpy as np\n",
      "from pylab import imshow, show\n",
      "from timeit import default_timer as timer"
     ],
     "language": "python",
     "metadata": {},
     "outputs": [],
     "prompt_number": 1
    },
    {
     "cell_type": "markdown",
     "metadata": {},
     "source": [
      "The `mandel` function performs the Mandelbrot set calculation for a given (x,y) position on the imaginary plane. It returns the number of iterations before the computation \"escapes\"."
     ]
    },
    {
     "cell_type": "code",
     "collapsed": false,
     "input": [
      "def mandel(x, y, max_iters):\n",
      "  \"\"\"\n",
      "    Given the real and imaginary parts of a complex number,\n",
      "    determine if it is a candidate for membership in the Mandelbrot\n",
      "    set given a fixed number of iterations.\n",
      "  \"\"\"\n",
      "  c = complex(x, y)\n",
      "  z = 0.0j\n",
      "  for i in range(max_iters):\n",
      "    z = z*z + c\n",
      "    if (z.real*z.real + z.imag*z.imag) >= 4:\n",
      "      return i\n",
      "\n",
      "  return max_iters"
     ],
     "language": "python",
     "metadata": {},
     "outputs": [],
     "prompt_number": 2
    },
    {
     "cell_type": "markdown",
     "metadata": {},
     "source": [
      "`create_fractal` iterates over all the pixels in the image, computing the complex coordinates from the pixel coordinates, and calls the `mandel` function at each pixel. The return value of `mandel` is used to color the pixel."
     ]
    },
    {
     "cell_type": "code",
     "collapsed": false,
     "input": [
      "def create_fractal(min_x, max_x, min_y, max_y, image, iters):\n",
      "  height = image.shape[0]\n",
      "  width = image.shape[1]\n",
      "\n",
      "  pixel_size_x = (max_x - min_x) / width\n",
      "  pixel_size_y = (max_y - min_y) / height\n",
      "    \n",
      "  for x in range(width):\n",
      "    real = min_x + x * pixel_size_x\n",
      "    for y in range(height):\n",
      "      imag = min_y + y * pixel_size_y\n",
      "      color = mandel(real, imag, iters)\n",
      "      image[y, x] = color"
     ],
     "language": "python",
     "metadata": {},
     "outputs": []
    },
    {
     "cell_type": "markdown",
     "metadata": {},
     "source": [
      "Next we create a 1536x1024 pixel image as a numpy array of bytes. We then call `create_fractal` with appropriate coordinates to fit the whole mandelbrot set."
     ]
    },
    {
     "cell_type": "code",
     "collapsed": false,
     "input": [
      "image = np.zeros((1024, 1536), dtype = np.uint8)\n",
      "start = timer()\n",
      "create_fractal(-2.0, 1.0, -1.0, 1.0, image, 20) \n",
      "dt = timer() - start\n",
      "\n",
      "print \"Mandelbrot created in %f s\" % dt\n",
      "imshow(image)\n",
      "show()"
     ],
     "language": "python",
     "metadata": {},
     "outputs": []
    },
    {
     "cell_type": "markdown",
     "metadata": {},
     "source": [
      "You can play with the coordinates to zoom in on different regions in the fractal."
     ]
    },
    {
     "cell_type": "code",
     "collapsed": false,
     "input": [
      "create_fractal(-2.0, -1.7, -0.1, 0.1, image, 20) \n",
      "imshow(image)\n",
      "show()"
     ],
     "language": "python",
     "metadata": {},
     "outputs": []
    },
    {
     "cell_type": "heading",
     "level": 2,
     "metadata": {},
     "source": [
      "Faster Execution with Numba"
     ]
    },
    {
     "cell_type": "markdown",
     "metadata": {},
     "source": [
      "[Numba](https://github.com/numba/numba) is a Numpy-aware dynamic Python compiler based on the popular LLVM compiler infrastructure. \n",
      "\n",
      "Numba is an Open Source NumPy-aware optimizing compiler for Python sponsored by Continuum Analytics, Inc. It uses the remarkable compiler infrastructure to compile Python syntax to machine code. It is aware of NumPy arrays as typed memory regions and so can speed-up code using NumPy arrays, such as our Mandelbrot functions.\n",
      "\n",
      "The simplest way to use Numba is to decorate the functions you want to compile with @autojit. Numba will compile them for the CPU (if it can resolve the types used)."
     ]
    },
    {
     "cell_type": "code",
     "collapsed": false,
     "input": [
      "from numba import autojit\n",
      "\n",
      "@autojit\n",
      "def mandel(x, y, max_iters):\n",
      "  \"\"\"\n",
      "    Given the real and imaginary parts of a complex number,\n",
      "    determine if it is a candidate for membership in the Mandelbrot\n",
      "    set given a fixed number of iterations.\n",
      "  \"\"\"\n",
      "  c = complex(x, y)\n",
      "  z = 0.0j\n",
      "  for i in range(max_iters):\n",
      "    z = z*z + c\n",
      "    if (z.real*z.real + z.imag*z.imag) >= 4:\n",
      "      return i\n",
      "\n",
      "  return max_iters\n",
      "\n",
      "@autojit\n",
      "def create_fractal(min_x, max_x, min_y, max_y, image, iters):\n",
      "  height = image.shape[0]\n",
      "  width = image.shape[1]\n",
      "\n",
      "  pixel_size_x = (max_x - min_x) / width\n",
      "  pixel_size_y = (max_y - min_y) / height\n",
      "    \n",
      "  for x in range(width):\n",
      "    real = min_x + x * pixel_size_x\n",
      "    for y in range(height):\n",
      "      imag = min_y + y * pixel_size_y\n",
      "      color = mandel(real, imag, iters)\n",
      "      image[y, x] = color"
     ],
     "language": "python",
     "metadata": {},
     "outputs": []
    },
    {
     "cell_type": "markdown",
     "metadata": {},
     "source": [
      "Let's run the `@autojit` code and see if it is faster."
     ]
    },
    {
     "cell_type": "code",
     "collapsed": false,
     "input": [
      "image = np.zeros((1024, 1536), dtype = np.uint8)\n",
      "start = timer()\n",
      "create_fractal(-2.0, 1.0, -1.0, 1.0, image, 20) \n",
      "dt = timer() - start\n",
      "\n",
      "print \"Mandelbrot created in %f s\" % dt\n",
      "imshow(image)\n",
      "show()"
     ],
     "language": "python",
     "metadata": {},
     "outputs": []
    },
    {
     "cell_type": "markdown",
     "metadata": {},
     "source": [
      "On my desktop computer, the time to compute the 1536x1024 mandelbrot set dropped from 6.92s down to 0.06s. That's a speedup of 115x! The reason this is so much faster is that Numba uses Numpy type information to convert the dynamic Python code into statically compiled machine code, which is many times faster to execute than dynamically typed, interpreted Python code. "
     ]
    }
   ],
   "metadata": {}
  }
 ]
}